{
 "cells": [
  {
   "cell_type": "code",
   "execution_count": 2,
   "metadata": {},
   "outputs": [],
   "source": [
    "import pandas as pd\n",
    "import numpy as np\n",
    "from tqdm import tqdm\n",
    "import torch"
   ]
  },
  {
   "cell_type": "code",
   "execution_count": 16,
   "metadata": {},
   "outputs": [],
   "source": [
    "from model.EPInformer import EPInformer_v2\n",
    "from scripts.utils import prepare_input, FastaStringExtractor"
   ]
  },
  {
   "cell_type": "code",
   "execution_count": 9,
   "metadata": {},
   "outputs": [],
   "source": [
    "flowfish_df = pd.read_excel('./data/CRISPRi-FlowFISH_Fulco2019/41588_2019_538_MOESM3_ESM.xlsx',sheet_name='Supplementary Table 6a', skiprows=[0])\n",
    "# ensid_gene = pd.read_csv('./data/CRISPRi-FlowFISH_Fulco2019/GeneName2ENSID.csv')\n",
    "RNA_feats = pd.read_csv('./data/GM12878_K562_18377_gene_expr_fromXpresso.csv', index_col='Gene stable ID')[['Gene name', 'UTR5LEN_log10zscore','CDSLEN_log10zscore','INTRONLEN_log10zscore','UTR3LEN_log10zscore','UTR5GC','CDSGC','UTR3GC', 'ORFEXONDENSITY_log10zscore']]\n",
    "ensid_gene = RNA_feats[['Gene name']].reset_index()\n",
    "flowfish_df['significant_enhancer'] = flowfish_df['Significant']&(flowfish_df['Fraction change in gene expr'] < 0)\n",
    "flowfish_df = flowfish_df.merge(ensid_gene, left_on='Gene', right_on='Gene name', how='left')\n",
    "flowfish_df['Xpresso_gene'] = False\n",
    "intersec_ensid = list(set(flowfish_df['Gene stable ID']).intersection(set(RNA_feats.index)))\n",
    "flowfish_df = flowfish_df.set_index('Gene stable ID')\n",
    "flowfish_df.loc[intersec_ensid, 'Xpresso_gene'] = True\n",
    "flowfish_df = flowfish_df[flowfish_df['Xpresso_gene']].reset_index()\n",
    "flowfish_df['mid'] = flowfish_df['start'] + (flowfish_df['end'] - flowfish_df['start'])/2\n",
    "flowfish_df['Distance'] = np.abs(flowfish_df['mid'] - flowfish_df['Gene TSS'])\n",
    "flowfish_100kb_df = flowfish_df[flowfish_df['Distance'] <= 100_000]\n",
    "flowfish_100kb_df['#true_enhance_by_gene'] = flowfish_100kb_df.groupby('Gene')['significant_enhancer'].transform('sum') #  = "
   ]
  },
  {
   "cell_type": "code",
   "execution_count": 13,
   "metadata": {},
   "outputs": [],
   "source": [
    "expr_df = pd.read_csv('./data/GM12878_K562_18377_gene_expr_fromXpresso.csv', index_col='ENSID')[['K562_CAGE_128*3_sum', 'Actual_K562', 'Gene name']]\n",
    "expr_flowfish_100kb_df = expr_df.merge(flowfish_100kb_df, left_index=True, right_on='Gene stable ID', how='right').reset_index()"
   ]
  },
  {
   "cell_type": "code",
   "execution_count": 49,
   "metadata": {},
   "outputs": [],
   "source": [
    "gene_list = flowfish_100kb_df['Gene name'].dropna().unique()"
   ]
  },
  {
   "cell_type": "code",
   "execution_count": 15,
   "metadata": {},
   "outputs": [],
   "source": [
    "promoter_df = pd.read_csv('./data/CRISPRi-FlowFISH_Fulco2019/DNase_ENCFF257HEE_Neighborhoods/GeneList.txt', sep='\\t', index_col='symbol')\n",
    "promoter_df['PromoterActivity'] = np.sqrt(promoter_df['H3K27ac.RPM.TSS1Kb']*promoter_df['DHS.RPM.TSS1Kb'])"
   ]
  },
  {
   "cell_type": "code",
   "execution_count": 17,
   "metadata": {},
   "outputs": [],
   "source": [
    "hg19_fasta_extractor = FastaStringExtractor(\"../hg19.fa\")"
   ]
  },
  {
   "cell_type": "code",
   "execution_count": null,
   "metadata": {},
   "outputs": [],
   "source": []
  }
 ],
 "metadata": {
  "kernelspec": {
   "display_name": "EPInformer_env",
   "language": "python",
   "name": "python3"
  },
  "language_info": {
   "codemirror_mode": {
    "name": "ipython",
    "version": 3
   },
   "file_extension": ".py",
   "mimetype": "text/x-python",
   "name": "python",
   "nbconvert_exporter": "python",
   "pygments_lexer": "ipython3",
   "version": "3.9.19"
  }
 },
 "nbformat": 4,
 "nbformat_minor": 2
}
