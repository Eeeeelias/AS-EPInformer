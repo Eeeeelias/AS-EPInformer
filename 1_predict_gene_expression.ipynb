{
 "cells": [
  {
   "cell_type": "code",
   "execution_count": 4,
   "metadata": {},
   "outputs": [],
   "source": [
    "from model.EPInformer import EPInformer_v2, enhancer_predictor_256bp\n",
    "from scripts.utils import prepare_input"
   ]
  },
  {
   "cell_type": "code",
   "execution_count": 5,
   "metadata": {},
   "outputs": [],
   "source": [
    "import pandas as pd\n",
    "import numpy as np\n",
    "from tqdm import tqdm\n",
    "import torch"
   ]
  },
  {
   "cell_type": "code",
   "execution_count": null,
   "metadata": {},
   "outputs": [],
   "source": [
    "# Download ABC element-gene data for K562\n",
    "!wget https://www.encodeproject.org/files/ENCFF635RHY/@@download/ENCFF635RHY.bed.gz -O ./data/K562_enhancer_gene_links.bed.gz"
   ]
  },
  {
   "cell_type": "code",
   "execution_count": null,
   "metadata": {},
   "outputs": [],
   "source": [
    "# Donwload reference genome\n",
    "!wget https://hgdownload.soe.ucsc.edu/goldenPath/hg38/bigZips/hg38.fa.gz  -P ./data/\n",
    "!gunzip ./data/hg38.fa.gz"
   ]
  },
  {
   "cell_type": "code",
   "execution_count": null,
   "metadata": {},
   "outputs": [],
   "source": [
    "# Load ABC enhancer-gene data\n",
    "enhancer_gene_k562 = pd.read_csv('./data/K562_enhancer_gene_links.bed.gz', sep='\\t')\n",
    "# Select the gene-enhancer links within 100kb to the TSS of target gene and remove the promoter element\n",
    "enhancer_gene_k562_100kb = enhancer_gene_k562[(enhancer_gene_k562['distance']<=100_000)&(enhancer_gene_k562['distance']>1000)].reset_index()\n",
    "enhancer_gene_k562_100kb.to_csv('./data/K562_enhancer_gene_links_100kb.tsv', index=False, sep='\\t')"
   ]
  },
  {
   "cell_type": "code",
   "execution_count": 6,
   "metadata": {},
   "outputs": [],
   "source": [
    "enhancer_gene_k562_100kb = pd.read_csv('./data/K562_enhancer_gene_links_100kb.tsv', sep='\\t')\n",
    "gene_tss = pd.read_csv('./data/GeneList_K562.txt', sep='\\t')[['name', 'chr', 'tss', 'strand']]\n",
    "data_split = pd.read_csv('./data/leave_chrom_out_crossvalidation_split_18377genes.csv')"
   ]
  },
  {
   "cell_type": "code",
   "execution_count": 7,
   "metadata": {},
   "outputs": [],
   "source": [
    "# add the gene without canididate enhancer within 100kb to the TSS\n",
    "enhancer_gene_k562_100kb_withNoEnhancer = enhancer_gene_k562_100kb.merge(gene_tss, left_on='TargetGene', right_on='name', how='right', suffixes=['', '_gene']).reset_index()"
   ]
  },
  {
   "cell_type": "code",
   "execution_count": 8,
   "metadata": {},
   "outputs": [
    {
     "name": "stderr",
     "output_type": "stream",
     "text": [
      "100%|██████████| 16/16 [00:00<00:00, 24.26it/s]\n"
     ]
    },
    {
     "name": "stdout",
     "output_type": "stream",
     "text": [
      "torch.Size([16, 61, 2000, 4]) torch.Size([16, 61, 2]) torch.Size([16, 9])\n"
     ]
    }
   ],
   "source": [
    "gene_list = data_split[data_split['fold_1'] == 'test']['Gene name'].head(16)\n",
    "# encode gene-enhancer links for EPInformer\n",
    "# num_feature == 1: distance; num_feature == 2: distance + enhancer activity; num_feature == 3: distance + enhancer activity + hic contacts\n",
    "device = 'cpu'\n",
    "PE_codes, PE_feats, mRNA_feats, PE_pairs = prepare_input(enhancer_gene_k562_100kb_withNoEnhancer, gene_list, num_features=2)\n",
    "PE_codes = torch.from_numpy(PE_codes).float().to(device)\n",
    "PE_feats = torch.from_numpy(PE_feats).float().to(device)\n",
    "mRNA_feats = torch.from_numpy(mRNA_feats).float().to(device)\n",
    "print(PE_codes.shape, PE_feats.shape, mRNA_feats.shape)"
   ]
  },
  {
   "cell_type": "code",
   "execution_count": 9,
   "metadata": {},
   "outputs": [],
   "source": [
    "# Load pre-trained EPInformer-PE-Activity (CAGE-seq)\n",
    "model = EPInformer_v2(n_encoder=3, n_enhancer=60, out_dim=64, n_extraFeat=2, device=device)\n",
    "model_path = '../models_with_pretrained/fold_8_best_EPInformerV2.4base.64dim.3Trans.4head.TrueBN.TrueLN.TrueFeat.2extraFeat.60enh.preTrainedConv.tuneP2.K562.rmEnhNone.bs32.seq_feat_dist.DNaseH.PSignal.distanceDist100k.hicNone.len2k.distance.CAGE_checkpoint.pt'\n",
    "checkpoint = torch.load(model_path, map_location=torch.device(device))\n",
    "model.load_state_dict(checkpoint['model_state_dict'])\n",
    "model = model.to(device)"
   ]
  },
  {
   "cell_type": "code",
   "execution_count": 10,
   "metadata": {},
   "outputs": [
    {
     "name": "stdout",
     "output_type": "stream",
     "text": [
      "19       RAD52\n",
      "31        M6PR\n",
      "33     CYP26B1\n",
      "36        ALS2\n",
      "37      CASP10\n",
      "38       CFLAR\n",
      "39        TFPI\n",
      "40     NDUFAF7\n",
      "49       FKBP4\n",
      "53       RECQL\n",
      "81       RPAP3\n",
      "94       GCFC2\n",
      "95       WDR54\n",
      "140      FARP2\n",
      "157    ADIPOR2\n",
      "159       UPP2\n",
      "Name: Gene name, dtype: object\n",
      "[1.742867   2.2111826  0.90545416 2.2479522  0.64432526 1.9487582\n",
      " 1.072553   2.3364704  1.7255857  2.1021006  2.247296   1.7695343\n",
      " 1.4032018  2.0451345  2.4613125  0.3515203 ]\n"
     ]
    }
   ],
   "source": [
    "model.eval()\n",
    "with torch.no_grad():\n",
    "    pred_expr, _ = model(PE_codes, mRNA_feats, PE_feats)\n",
    "    pred_expr = pred_expr.numpy().squeeze()\n",
    "print(gene_list)\n",
    "print(pred_expr)"
   ]
  },
  {
   "cell_type": "code",
   "execution_count": null,
   "metadata": {},
   "outputs": [],
   "source": []
  }
 ],
 "metadata": {
  "kernelspec": {
   "display_name": "gene_expr",
   "language": "python",
   "name": "python3"
  },
  "language_info": {
   "codemirror_mode": {
    "name": "ipython",
    "version": 3
   },
   "file_extension": ".py",
   "mimetype": "text/x-python",
   "name": "python",
   "nbconvert_exporter": "python",
   "pygments_lexer": "ipython3",
   "version": "3.9.19"
  }
 },
 "nbformat": 4,
 "nbformat_minor": 2
}
