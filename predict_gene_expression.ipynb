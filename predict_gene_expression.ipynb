{
 "cells": [
  {
   "cell_type": "code",
   "execution_count": 1,
   "metadata": {},
   "outputs": [],
   "source": [
    "from model.EPInformer import EPInformer_v2, enhancer_predicor_256bp"
   ]
  },
  {
   "cell_type": "code",
   "execution_count": 30,
   "metadata": {},
   "outputs": [],
   "source": [
    "import pandas as pd\n",
    "from tqdm import tqdm"
   ]
  },
  {
   "cell_type": "markdown",
   "metadata": {},
   "source": [
    "### Download ABC element-gene data for K562"
   ]
  },
  {
   "cell_type": "code",
   "execution_count": null,
   "metadata": {},
   "outputs": [],
   "source": [
    "!wget https://www.encodeproject.org/files/ENCFF635RHY/@@download/ENCFF635RHY.bed.gz -O ./data/K562_enhancer_gene_links.bed.gz"
   ]
  },
  {
   "cell_type": "code",
   "execution_count": null,
   "metadata": {},
   "outputs": [],
   "source": [
    "!wget https://hgdownload.soe.ucsc.edu/goldenPath/hg38/bigZips/hg38.fa.gz  -P ./data/"
   ]
  },
  {
   "cell_type": "code",
   "execution_count": 8,
   "metadata": {},
   "outputs": [],
   "source": [
    "enhancer_gene_k562 = pd.read_csv('./data/K562_enhancer_gene_links.bed.gz', sep='\\t')\n",
    "enhancer_gene_k562_100kb = enhancer_gene_k562[(enhancer_gene_k562['distance']<=100_000)&(enhancer_gene_k562['distance']>1000)].reset_index()"
   ]
  },
  {
   "cell_type": "code",
   "execution_count": 10,
   "metadata": {},
   "outputs": [],
   "source": [
    "enhancer_gene_k562_100kb.to_csv('./data/K562_enhancer_gene_links_100kb.tsv', index=False, sep='\\t')"
   ]
  },
  {
   "cell_type": "code",
   "execution_count": 4,
   "metadata": {},
   "outputs": [],
   "source": [
    "enhancer_gene_k562_100kb = pd.read_csv('./data/K562_enhancer_gene_links_100kb.tsv', sep='\\t')"
   ]
  },
  {
   "cell_type": "code",
   "execution_count": 25,
   "metadata": {},
   "outputs": [
    {
     "data": {
      "text/plain": [
       "Index(['index', '#chr', 'start', 'end', 'name', 'class', 'activity_base',\n",
       "       'normalized_h3K27ac', 'normalized_dhs', 'activity_base_squared',\n",
       "       'TargetGene', 'TargetGeneTSS', 'TargetGeneExpression',\n",
       "       'TargetGenePromoterActivityQuantile', 'TargetGeneIsExpressed',\n",
       "       'normalized_dhs_b', 'normalized_h3k27ac', 'distance', 'isSelfPromoter',\n",
       "       'powerlaw_contact', 'powerlaw_contact_reference', 'hic_contact',\n",
       "       'juicebox_contact_values', 'hic_contact_pl_scaled', 'hic_pseudocount',\n",
       "       'hic_contact_pl_scaled_adj', 'ABC.Score.Numerator', 'ABC.Score',\n",
       "       'powerlaw.Score.Numerator', 'powerlaw.Score', 'CellType',\n",
       "       'hic_contact_squared', 'Ensembl_ID'],\n",
       "      dtype='object')"
      ]
     },
     "execution_count": 25,
     "metadata": {},
     "output_type": "execute_result"
    }
   ],
   "source": [
    "enhancer_gene_k562_100kb.columns"
   ]
  },
  {
   "cell_type": "code",
   "execution_count": 5,
   "metadata": {},
   "outputs": [],
   "source": [
    "GATA1_PE = enhancer_gene_k562_100kb[enhancer_gene_k562_100kb['TargetGene'] == 'GATA1']"
   ]
  },
  {
   "cell_type": "code",
   "execution_count": 8,
   "metadata": {},
   "outputs": [],
   "source": [
    "from kipoiseq import Interval\n",
    "import pyfaidx\n",
    "import kipoiseq\n",
    "import numpy as np\n",
    "import pandas as pd\n",
    "import pyranges as pr\n",
    "# from Bio.Seq import Seq\n",
    "\n",
    "def df_to_pyranges(df, start_col='start', end_col='end', chr_col='chr', start_slop=0, end_slop=0):\n",
    "    df['Chromosome'] = df[chr_col]\n",
    "    df['Start'] = df[start_col] - start_slop\n",
    "    df['End'] = df[end_col] + end_slop\n",
    "    return(pr.PyRanges(df))\n",
    "\n",
    "class FastaStringExtractor:\n",
    "    def __init__(self, fasta_file):\n",
    "        self.fasta = pyfaidx.Fasta(fasta_file)\n",
    "        self._chromosome_sizes = {k: len(v) for k, v in self.fasta.items()}\n",
    "\n",
    "    def extract(self, interval: Interval, **kwargs) -> str:\n",
    "        # Truncate interval if it extends beyond the chromosome lengths.\n",
    "        chromosome_length = self._chromosome_sizes[interval.chrom]\n",
    "        trimmed_interval = Interval(interval.chrom,\n",
    "                                    max(interval.start, 0),\n",
    "                                    min(interval.end, chromosome_length),\n",
    "                                    )\n",
    "        # pyfaidx wants a 1-based interval\n",
    "        sequence = str(self.fasta.get_seq(trimmed_interval.chrom,\n",
    "                                          trimmed_interval.start + 1,\n",
    "                                          trimmed_interval.stop).seq).upper()\n",
    "        # Fill truncated values with N's.\n",
    "        pad_upstream = 'N' * max(-interval.start, 0)\n",
    "        pad_downstream = 'N' * max(interval.end - chromosome_length, 0)\n",
    "        return pad_upstream + sequence + pad_downstream\n",
    "\n",
    "    def close(self):\n",
    "        return self.fasta.close()\n",
    "    \n",
    "def one_hot_encode(sequence):\n",
    "    return kipoiseq.transforms.functional.one_hot_dna(sequence).astype(np.float32)"
   ]
  },
  {
   "cell_type": "code",
   "execution_count": 23,
   "metadata": {},
   "outputs": [],
   "source": [
    "def encode_promoter_enhancer_links(gene_enhancer_df, fasta_path = './data/hg38.fa', max_n_enhancer = 60, max_distanceToTSS = 100_000, max_seq_len=2000, add_flanking=False):\n",
    "    fasta_extractor = FastaStringExtractor(fasta_path)\n",
    "    gene_pe = gene_enhancer_df.sort_values(by='distance')\n",
    "    row_0 = gene_pe.iloc[0]\n",
    "    gene_name = row_0['TargetGene']\n",
    "    gene_tss = row_0['TargetGeneTSS']\n",
    "    chrom = row_0['#chr']\n",
    "    target_interval = kipoiseq.Interval(chrom, int(gene_tss-max_seq_len/2), int(gene_tss+max_seq_len/2))\n",
    "\n",
    "    promoter_seq = fasta_extractor.extract(target_interval)\n",
    "    promoter_code = one_hot_encode(promoter_seq)\n",
    "    enhancers_code = np.zeros((max_n_enhancer, max_seq_len, 4))\n",
    "    enhancer_activity = np.zeros(max_n_enhancer)\n",
    "    enhancer_distance = np.zeros(max_n_enhancer)\n",
    "    enhancer_contact = np.zeros(max_n_enhancer)\n",
    "    # set distance threshold\n",
    "    gene_pe = gene_pe[(gene_pe['distance'] > max_seq_len/2)&(gene_pe['distance'] <= max_distanceToTSS)]\n",
    "    e_i = 0\n",
    "    gene_element_pair = []\n",
    "    for idx, row in gene_pe.iterrows():\n",
    "        if pd.isna(row['start']):\n",
    "            continue\n",
    "        if e_i >= max_n_enhancer:\n",
    "            break\n",
    "        enhancer_start = int(row['start'])\n",
    "        enhancer_end = int(row['end'])\n",
    "        enhancer_center = int((row['start'] + row['end'])/2)\n",
    "        enhancer_len = enhancer_end - enhancer_start\n",
    "        # put sequence at the center\n",
    "        if add_flanking:\n",
    "            enhancer_target_interval = kipoiseq.Interval(chrom, enhancer_center-int(max_seq_len/2), enhancer_center+int(max_seq_len/2))\n",
    "            enhancers_code[e_i][:] = one_hot_encode(fasta_extractor.extract(enhancer_target_interval))\n",
    "        else:\n",
    "            # enhancers_signal = np.zeros((max_n_enhancer, max_seq_len))\n",
    "            if enhancer_len > max_seq_len:\n",
    "                enhancer_target_interval = kipoiseq.Interval(chrom, enhancer_center-int(max_seq_len/2), enhancer_center+int(max_seq_len/2))\n",
    "                enhancers_code[e_i][:] = one_hot_encode(fasta_extractor.extract(enhancer_target_interval))\n",
    "            else:\n",
    "                code_start = int(max_seq_len/2)-int(enhancer_len/2)\n",
    "                enhancer_target_interval = kipoiseq.Interval(chrom, enhancer_start, enhancer_end)\n",
    "                enhancers_code[e_i][code_start:code_start+enhancer_len] = one_hot_encode(fasta_extractor.extract(enhancer_target_interval))\n",
    "        # put sequence from the start\n",
    "        enhancer_activity[e_i] = row['activity_base']\n",
    "        enhancer_distance[e_i] = row['distance']\n",
    "        enhancer_contact[e_i] = row['hic_contact']*100\n",
    "        gene_element_pair.append([gene_name, row['name']])\n",
    "        e_i += 1\n",
    "    # print(promoter_signals.shape, enhancers_signal.shape)\n",
    "    pe_code = np.concatenate([promoter_code[np.newaxis,:], enhancers_code], axis=0)\n",
    "    gene_element_pair = pd.DataFrame(gene_element_pair, columns=['gene', 'element'])\n",
    "    return pe_code, enhancer_activity, enhancer_distance, enhancer_contact, gene_name, gene_element_pair"
   ]
  },
  {
   "cell_type": "code",
   "execution_count": 24,
   "metadata": {},
   "outputs": [],
   "source": [
    "pe_code, enhancer_activity, enhancer_distance, enhancer_contact, gene_name, pair_df =  encode_promoter_enhancer_links(GATA1_PE)"
   ]
  },
  {
   "cell_type": "code",
   "execution_count": 57,
   "metadata": {},
   "outputs": [],
   "source": [
    "# enhancer_gene_k562_100kb[enhancer_gene_k562_100kb['#chr'] == 'chrX']['TargetGene'].unique()\n",
    "mRNA_feauture = pd.read_csv('./data/mRNA_halflife_features.csv', index_col='Gene name')\n",
    "promoter_signals = pd.read_csv('./data/GeneList_K562.txt', index_col='symbol', sep='\\t')\n",
    "promoter_signals['PromoterActivity'] = np.sqrt(promoter_signals['H3K27ac.RPM.TSS1Kb']*promoter_signals['DHS.RPM.TSS1Kb'])"
   ]
  },
  {
   "cell_type": "code",
   "execution_count": 58,
   "metadata": {},
   "outputs": [
    {
     "data": {
      "text/plain": [
       "Index(['chrom', 'TSS', 'gene_id', 'Gene description', 'UTR5LEN_log10zscore',\n",
       "       'CDSLEN_log10zscore', 'INTRONLEN_log10zscore', 'UTR3LEN_log10zscore',\n",
       "       'UTR5GC', 'CDSGC', 'UTR3GC', 'ORFEXONDENSITY'],\n",
       "      dtype='object')"
      ]
     },
     "execution_count": 58,
     "metadata": {},
     "output_type": "execute_result"
    }
   ],
   "source": [
    "mRNA_feauture.columns"
   ]
  },
  {
   "cell_type": "code",
   "execution_count": 59,
   "metadata": {},
   "outputs": [],
   "source": [
    "gene_list = ['GATA1', 'WWC3', 'PRDX4', 'FAM50A']"
   ]
  },
  {
   "cell_type": "code",
   "execution_count": 66,
   "metadata": {},
   "outputs": [
    {
     "name": "stderr",
     "output_type": "stream",
     "text": [
      "100%|██████████| 4/4 [00:00<00:00, 17.57it/s]"
     ]
    },
    {
     "name": "stdout",
     "output_type": "stream",
     "text": [
      "(61, 2000, 4) (60,) (60,) (60,)\n",
      "(61, 2000, 4) (60,) (60,) (60,)\n",
      "(61, 2000, 4) (60,) (60,) (60,)\n",
      "(61, 2000, 4) (60,) (60,) (60,)\n"
     ]
    },
    {
     "name": "stderr",
     "output_type": "stream",
     "text": [
      "\n"
     ]
    }
   ],
   "source": [
    "ensid_pair_list = []\n",
    "mRNA_feats = ['UTR5LEN_log10zscore',\n",
    "       'CDSLEN_log10zscore', 'INTRONLEN_log10zscore', 'UTR3LEN_log10zscore',\n",
    "       'UTR5GC', 'CDSGC', 'UTR3GC', 'ORFEXONDENSITY']\n",
    "for gene in tqdm(gene_list):\n",
    "    gene_df = enhancer_gene_k562_100kb[enhancer_gene_k562_100kb['TargetGene'] == gene]\n",
    "    seq_code, act_list, dist_list, contact_list, gene_name, ensid_element_pair = encode_promoter_enhancer_links(gene_df, max_seq_len=2000, max_n_enhancer=60, max_distanceToTSS=150_000, add_flanking=False)\n",
    "    # print(seq_code.shape, act_list.shape, dist_list.shape, contact_list.shape)\n",
    "    mRNA_promoter_feat = np.array(list(mRNA_feauture.loc[gene, mRNA_feats].values) + [promoter_signals.loc[gene, 'PromoterActivity']])\n",
    "    # data = np.array([seq_code, act_list, dist_list, contact_list])\n",
    "    ensid_pair_list.append(ensid_element_pair)"
   ]
  },
  {
   "cell_type": "code",
   "execution_count": 65,
   "metadata": {},
   "outputs": [
    {
     "data": {
      "text/plain": [
       "[-0.1119840902305165,\n",
       " -0.0962541765981016,\n",
       " -0.3167160428224916,\n",
       " -0.6630045833064119,\n",
       " 0.649,\n",
       " 0.613,\n",
       " 0.542,\n",
       " 4.05,\n",
       " 13.215448065626719]"
      ]
     },
     "execution_count": 65,
     "metadata": {},
     "output_type": "execute_result"
    }
   ],
   "source": []
  },
  {
   "cell_type": "code",
   "execution_count": null,
   "metadata": {},
   "outputs": [],
   "source": []
  }
 ],
 "metadata": {
  "kernelspec": {
   "display_name": "gene_expr",
   "language": "python",
   "name": "python3"
  },
  "language_info": {
   "codemirror_mode": {
    "name": "ipython",
    "version": 3
   },
   "file_extension": ".py",
   "mimetype": "text/x-python",
   "name": "python",
   "nbconvert_exporter": "python",
   "pygments_lexer": "ipython3",
   "version": "3.9.19"
  }
 },
 "nbformat": 4,
 "nbformat_minor": 2
}
